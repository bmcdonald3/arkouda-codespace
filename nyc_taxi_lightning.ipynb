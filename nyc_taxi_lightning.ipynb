{
 "cells": [
  {
   "cell_type": "markdown",
   "id": "4570346a-ec29-4df4-93b0-e3b5b635f74f",
   "metadata": {},
   "source": [
    "# Arkouda Lightning Tutorial"
   ]
  },
  {
   "cell_type": "markdown",
   "id": "7744efcf-5445-43aa-bc1f-b58e0b8954b8",
   "metadata": {},
   "source": [
    "## Connect to the Arkouda server"
   ]
  },
  {
   "cell_type": "code",
   "execution_count": null,
   "id": "8a144e7e-7d40-4623-92bb-ca52b4fadcac",
   "metadata": {},
   "outputs": [],
   "source": [
    "import arkouda as ak\n",
    "ak.connect('localhost', 5555) "
   ]
  },
  {
   "cell_type": "code",
   "execution_count": null,
   "id": "a2a15b40-6b9c-4115-b777-d971faa9c860",
   "metadata": {},
   "outputs": [],
   "source": [
    "import pandas as pd\n",
    "import numpy as np\n",
    "import math\n",
    "import matplotlib.pyplot as plt\n",
    "import time\n",
    "import gc"
   ]
  },
  {
   "cell_type": "markdown",
   "id": "2ca014b4-b878-4071-b3ce-ca274d177412",
   "metadata": {},
   "source": [
    "## Read Parquet Taxi Cab Data"
   ]
  },
  {
   "cell_type": "code",
   "execution_count": null,
   "id": "12101a21-d498-45e7-a588-b43518d45232",
   "metadata": {},
   "outputs": [],
   "source": [
    "start = time.time()\n",
    "\n",
    "data = ak.read('/lus/scratch/mcdonald/data20-24/*', has_non_float_nulls=True)\n",
    "\n",
    "stop = time.time()\n",
    "print(f\"Read Parquet files execution time: {stop - start:.2f} seconds\")"
   ]
  },
  {
   "cell_type": "code",
   "execution_count": null,
   "id": "4404b8bc-9e88-480b-bba2-6d21694939d8",
   "metadata": {},
   "outputs": [],
   "source": [
    "data"
   ]
  },
  {
   "cell_type": "code",
   "execution_count": null,
   "id": "bff31169-9ac9-48fe-a1fa-3769c6155cd2",
   "metadata": {},
   "outputs": [],
   "source": [
    "data = ak.DataFrame(data)\n",
    "print(f\"Total amount of data: {(data.size * 4)/(1024*1024):.2f} GBs\")"
   ]
  },
  {
   "cell_type": "code",
   "execution_count": null,
   "id": "d555769d-732f-4380-9f9a-bd6c0fcd1c50",
   "metadata": {},
   "outputs": [],
   "source": [
    "data"
   ]
  },
  {
   "cell_type": "markdown",
   "id": "d1e84b7c-f291-431f-999a-a1aa225407ec",
   "metadata": {},
   "source": [
    "## Data Exploration\n",
    "\n",
    "More information on the Arkouda API can be found at: https://bears-r-us.github.io/arkouda/"
   ]
  },
  {
   "cell_type": "markdown",
   "id": "51312c61-ddfb-4620-85e6-653a99863646",
   "metadata": {},
   "source": [
    "### Descriptive statistics"
   ]
  },
  {
   "cell_type": "code",
   "execution_count": null,
   "id": "fbb71aae-5631-429d-9c49-faafc8faecf6",
   "metadata": {},
   "outputs": [],
   "source": [
    "def describe(x):\n",
    "    fmt = 'mean: {}\\nstd: {}\\nmin: {}\\nmax: {}'\n",
    "    if x.dtype == ak.float64:\n",
    "        fmt = fmt.format(*['{:.2f}' for _ in range(4)])\n",
    "    print(fmt.format(x.mean(), x.std(), x.min(), x.max()))"
   ]
  },
  {
   "cell_type": "code",
   "execution_count": null,
   "id": "d483dfb7-aec0-46e6-ac11-4ab6301123ef",
   "metadata": {},
   "outputs": [],
   "source": [
    "describe(data['fare_amount'])"
   ]
  },
  {
   "cell_type": "markdown",
   "id": "e436a425-a24f-457e-bfb2-06102dbcfccb",
   "metadata": {},
   "source": [
    "#### Histogram\n",
    "\n",
    "Arkouda supports transferring of distribtued arrays back to the client through ZMQ (messaging layer, similar to TCP sockets) and converting them to NumPy ndarrays. \n",
    "\n",
    "This can be useful for taking a portion of an Arkouda array to operate on at a smaller scale and interoparate with existing Python tools, like PySpark. In this example, a single column of our Arkouda array is converted to a NumPy array in order to work with MatPlotLib."
   ]
  },
  {
   "cell_type": "code",
   "execution_count": null,
   "id": "4248061a-5f44-4a8f-a2b4-fb5e5a82a52a",
   "metadata": {},
   "outputs": [],
   "source": [
    "import numpy as np\n",
    "from matplotlib import pyplot as plt\n",
    "\n",
    "def hist(x, bins, log=True):\n",
    "    assert bins > 0\n",
    "    h, bins = ak.histogram(x, bins)\n",
    "    plt.bar(bins[:-1].to_ndarray(), h.to_ndarray(), width=bins[1]-bins[0])\n",
    "    if log:\n",
    "        plt.yscale('log')"
   ]
  },
  {
   "cell_type": "code",
   "execution_count": null,
   "id": "66b27677-e741-46d8-b52e-71f42cf94b26",
   "metadata": {},
   "outputs": [],
   "source": [
    "hist(data['fare_amount'], 100)"
   ]
  },
  {
   "cell_type": "markdown",
   "id": "f884c63c-e68b-4a9b-834f-41174c414b37",
   "metadata": {},
   "source": [
    "# Taxi Zone Lookup Table"
   ]
  },
  {
   "cell_type": "markdown",
   "id": "1d11274e-46fa-4f60-ac2d-eb15f682feff",
   "metadata": {},
   "source": [
    "### Use method 1: CSV -> Pandas -> Arkouda\n",
    "Arkouda supports working with Pandas DataFrames, which can be used to augment large Arkouda pdarrays or DataFrames, or converted to Arkouda pdarrays to get better performance."
   ]
  },
  {
   "cell_type": "code",
   "execution_count": null,
   "id": "e00278b1-542e-4efb-a9b2-d8a038a4ebf3",
   "metadata": {},
   "outputs": [],
   "source": [
    "import pandas as pd\n",
    "\n",
    "def cvt_to_string(v):\n",
    "    try:\n",
    "        if v == '':\n",
    "            return 'N/A'\n",
    "        else:\n",
    "            return str(v)\n",
    "    except:\n",
    "        return 'N/A'\n",
    "\n",
    "cvt = {'Borough':cvt_to_string, 'Zone':cvt_to_string, 'service zone':cvt_to_string}\n",
    "tzlut = pd.read_csv('./taxi_zone_lookup.csv', converters=cvt)\n",
    "\n",
    "top_row = pd.DataFrame({'LocationID': [0], 'Borough': ['N/A'], 'service_zone':['N/A']})\n",
    "tzlut = pd.concat([top_row, tzlut]).reset_index(drop=True)"
   ]
  },
  {
   "cell_type": "code",
   "execution_count": null,
   "id": "0259a9ba-1fee-4596-ba49-cd32ea413983",
   "metadata": {},
   "outputs": [],
   "source": [
    "tzlut"
   ]
  },
  {
   "cell_type": "markdown",
   "id": "8cb2aea7-9859-4aba-a1e0-55b7c9f94145",
   "metadata": {},
   "source": [
    "#### Convert Pandas DF to Arkouda DF"
   ]
  },
  {
   "cell_type": "code",
   "execution_count": null,
   "id": "2788fb6a-fa46-4073-8669-1f1894b544d0",
   "metadata": {},
   "outputs": [],
   "source": [
    "def ak_create_from_df(df):\n",
    "    akdict = {}\n",
    "    for cname in df.keys():\n",
    "        if df[cname].dtype.name == 'object':\n",
    "            akdict[cname] = ak.from_series(df[cname],dtype=str)\n",
    "        else:\n",
    "            akdict[cname] = ak.from_series(df[cname])\n",
    "    return ak.DataFrame(akdict)"
   ]
  },
  {
   "cell_type": "code",
   "execution_count": null,
   "id": "c366aac1-1bc1-471a-8aa2-4b8573dd3615",
   "metadata": {},
   "outputs": [],
   "source": [
    "aktzlut = ak_create_from_df(tzlut)"
   ]
  },
  {
   "cell_type": "code",
   "execution_count": null,
   "id": "dee31d5f-b084-4e63-923a-90a6f3c1485e",
   "metadata": {},
   "outputs": [],
   "source": [
    "aktzlut"
   ]
  },
  {
   "cell_type": "markdown",
   "id": "afe8ce3a-698d-4b69-ade0-ebf9aa2c3c38",
   "metadata": {},
   "source": [
    "#### Apply Lookup Table"
   ]
  },
  {
   "cell_type": "markdown",
   "id": "aae4f58b-88be-4179-9d66-12ef4dcd0abd",
   "metadata": {},
   "source": [
    "After ensuring that our array is zero-up indexed, we can enhance our Arkouda dictionary by broadcasting values."
   ]
  },
  {
   "cell_type": "code",
   "execution_count": null,
   "id": "aae94ef0-7e07-4c5d-8587-9db5b02526f9",
   "metadata": {},
   "outputs": [],
   "source": [
    "(aktzlut['LocationID'] == ak.arange(aktzlut['LocationID'].size)).all()"
   ]
  },
  {
   "cell_type": "code",
   "execution_count": null,
   "id": "a58a4ace-4092-4a18-af22-ef1108925459",
   "metadata": {},
   "outputs": [],
   "source": [
    "data['PUBorough'] = aktzlut['Borough'][data['PULocationID']]\n",
    "data['DOBorough'] = aktzlut['Borough'][data['DOLocationID']]"
   ]
  },
  {
   "cell_type": "code",
   "execution_count": null,
   "id": "b9454aa4-f403-4aaf-9ad8-0bb6b811cb54",
   "metadata": {},
   "outputs": [],
   "source": [
    "data['PUZone'] = aktzlut['Zone'][data['PULocationID']]\n",
    "data['DOZone'] = aktzlut['Zone'][data['DOLocationID']]"
   ]
  },
  {
   "cell_type": "code",
   "execution_count": null,
   "id": "ed671f49-1ae0-4412-abe8-ea0b3ca7c998",
   "metadata": {},
   "outputs": [],
   "source": [
    "data"
   ]
  },
  {
   "cell_type": "markdown",
   "id": "729dcd3e-556f-4808-bc34-c13dcdc1cafb",
   "metadata": {},
   "source": [
    "#### GroupBy: Construct a Graph"
   ]
  },
  {
   "cell_type": "code",
   "execution_count": null,
   "id": "f7d93d04-af51-4679-8d5f-ca8c3425bf18",
   "metadata": {},
   "outputs": [],
   "source": [
    "import time\n",
    "\n",
    "start = time.time()\n",
    "byloc = ak.GroupBy([data['PULocationID'], data['DOLocationID']])\n",
    "stop = time.time()\n",
    "print(f\"Total amount of data: {(data['PULocationID'].size*4*2)/(1024*1024):.2f} GBs\")\n",
    "print(f\"GroupBy execution time: {stop - start}\")"
   ]
  },
  {
   "cell_type": "markdown",
   "id": "1dc78f63-0bec-49ad-ac02-c8ea6d62a034",
   "metadata": {},
   "source": [
    "#### Broadcast: Find Rides with Anomalous Fares\n",
    "Compute mean and stddev of fare by (pickup, dropoff)"
   ]
  },
  {
   "cell_type": "code",
   "execution_count": null,
   "id": "5c5f9378-e69a-4322-89b5-914e292e8cdc",
   "metadata": {},
   "outputs": [],
   "source": [
    "start = time.time()\n",
    "\n",
    "_, mf = byloc.mean(data['fare_amount'])\n",
    "\n",
    "stop = time.time()\n",
    "print(f\"Total amount of data: {(data['PULocationID'].size*4*2)/(1024*1024):.2f} GBs\")\n",
    "print(f\"Mean execution time: {stop - start:.2f} seconds\")"
   ]
  },
  {
   "cell_type": "code",
   "execution_count": null,
   "id": "3fddded8-5fe7-4851-a366-ed8297cd838a",
   "metadata": {},
   "outputs": [],
   "source": [
    "start = time.time()\n",
    "\n",
    "(u, v), w = byloc.size()\n",
    "\n",
    "stop = time.time()\n",
    "print(f\"Mean execution time: {stop - start:.2f} seconds\")"
   ]
  },
  {
   "cell_type": "code",
   "execution_count": null,
   "id": "aa470127-dfd2-46d4-8ae8-190581835b08",
   "metadata": {},
   "outputs": [],
   "source": [
    "start = time.time()\n",
    "\n",
    "sf = (byloc.sum(data['fare_amount']**2)[1] / w) - mf**2\n",
    "\n",
    "stop = time.time()\n",
    "print(f\"Standard dev execution time: {stop - start:.2f} seconds\")"
   ]
  },
  {
   "cell_type": "markdown",
   "id": "dfd63545-b02a-4980-ad4c-91656b08ad06",
   "metadata": {},
   "source": [
    "Broadcast group values back to ride dataframe to compute z-score of rides"
   ]
  },
  {
   "cell_type": "code",
   "execution_count": null,
   "id": "283d21cc-b0b9-48a7-ab2a-11fae4249690",
   "metadata": {},
   "outputs": [],
   "source": [
    "data['fare_mean'] = byloc.broadcast(mf, permute=True)\n",
    "data['fare_std'] = byloc.broadcast(sf, permute=True)"
   ]
  },
  {
   "cell_type": "code",
   "execution_count": null,
   "id": "1dbcd401-5cc3-42d0-a53c-01838ecf926b",
   "metadata": {},
   "outputs": [],
   "source": [
    "data"
   ]
  },
  {
   "cell_type": "code",
   "execution_count": null,
   "id": "de016c56-e245-4e89-b43e-84161d9068ef",
   "metadata": {},
   "outputs": [],
   "source": [
    "data['fare_z'] = (data['fare_amount'] - data['fare_mean']) / (data['fare_std'] + 1)"
   ]
  },
  {
   "cell_type": "code",
   "execution_count": null,
   "id": "c31f5c5f-a92a-4521-a805-4a9b6d28a0d1",
   "metadata": {},
   "outputs": [],
   "source": [
    "hist(data['fare_z'], 100)"
   ]
  },
  {
   "cell_type": "markdown",
   "id": "c9ecc91e-3e2c-42e6-99c3-8879184f54aa",
   "metadata": {},
   "source": [
    "#### Bring Small Result Set Back to Pandas\n",
    "Now, we've explored our data, we've discovered insights, and now we know what we need to look at: rides that are extraordinarily expensive! \n",
    "\n",
    "To work with that how you would any other Python code, the pdarray can be converted from the server side as a pdarray to the client side as a NumPy ndarray or Pandas DataFrame."
   ]
  },
  {
   "cell_type": "code",
   "execution_count": null,
   "id": "065fdbb6-a2cd-4c97-a90c-afb77e6be417",
   "metadata": {},
   "outputs": [],
   "source": [
    "exorbitant = (data['fare_z'] > 2)\n",
    "exdf = pd.DataFrame({k: v[exorbitant].to_ndarray() for k, v in data.items()})\n",
    "print(f\"Number of exorbitant rows: {exdf.size/27}\")"
   ]
  },
  {
   "cell_type": "code",
   "execution_count": null,
   "id": "2a8e0d78-89f8-4082-b611-23e9e5f165a0",
   "metadata": {},
   "outputs": [],
   "source": [
    "exdf.head(5)"
   ]
  },
  {
   "cell_type": "code",
   "execution_count": null,
   "id": "03e97c77-406b-4692-89c4-33a5a4320501",
   "metadata": {},
   "outputs": [],
   "source": [
    "worst = data['fare_z'].argmax()\n",
    "{k:v[worst] for k, v in data.items()}"
   ]
  }
 ],
 "metadata": {
  "kernelspec": {
   "display_name": "Python 3 (ipykernel)",
   "language": "python",
   "name": "python3"
  },
  "language_info": {
   "codemirror_mode": {
    "name": "ipython",
    "version": 3
   },
   "file_extension": ".py",
   "mimetype": "text/x-python",
   "name": "python",
   "nbconvert_exporter": "python",
   "pygments_lexer": "ipython3",
   "version": "3.12.1"
  }
 },
 "nbformat": 4,
 "nbformat_minor": 5
}
