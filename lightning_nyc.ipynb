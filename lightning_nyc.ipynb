{
 "cells": [
  {
   "cell_type": "markdown",
   "id": "4570346a-ec29-4df4-93b0-e3b5b635f74f",
   "metadata": {},
   "source": [
    "# Arkouda Lightning Tutorial"
   ]
  },
  {
   "cell_type": "markdown",
   "id": "7744efcf-5445-43aa-bc1f-b58e0b8954b8",
   "metadata": {},
   "source": [
    "## Connect to the Arkouda server"
   ]
  },
  {
   "cell_type": "code",
   "execution_count": null,
   "id": "8a144e7e-7d40-4623-92bb-ca52b4fadcac",
   "metadata": {},
   "outputs": [],
   "source": [
    "import arkouda as ak\n",
    "ak.connect('localhost', 5555) "
   ]
  },
  {
   "cell_type": "code",
   "execution_count": null,
   "id": "a2a15b40-6b9c-4115-b777-d971faa9c860",
   "metadata": {},
   "outputs": [],
   "source": [
    "import pandas as pd\n",
    "import numpy as np\n",
    "import math\n",
    "import matplotlib.pyplot as plt\n",
    "import time\n",
    "import gc"
   ]
  },
  {
   "cell_type": "markdown",
   "id": "2ca014b4-b878-4071-b3ce-ca274d177412",
   "metadata": {},
   "source": [
    "## Read Parquet Taxi Cab Data"
   ]
  },
  {
   "cell_type": "code",
   "execution_count": null,
   "id": "12101a21-d498-45e7-a588-b43518d45232",
   "metadata": {},
   "outputs": [],
   "source": [
    "start = time.time()\n",
    "\n",
    "data = ak.read_parquet('/lus/scratch/mcdonald/data20-24/*', has_non_float_nulls=True)\n",
    "\n",
    "stop = time.time()\n",
    "print(f\"Read Parquet files execution time: {stop - start:.2f} seconds\")"
   ]
  },
  {
   "cell_type": "code",
   "execution_count": null,
   "id": "bff31169-9ac9-48fe-a1fa-3769c6155cd2",
   "metadata": {},
   "outputs": [],
   "source": [
    "data = ak.DataFrame(data)\n",
    "print(f\"Total amount of data: {(data.size*4)/(1024*1024):.2f} GBs\")"
   ]
  },
  {
   "cell_type": "code",
   "execution_count": null,
   "id": "d555769d-732f-4380-9f9a-bd6c0fcd1c50",
   "metadata": {},
   "outputs": [],
   "source": [
    "data"
   ]
  },
  {
   "cell_type": "markdown",
   "id": "d1e84b7c-f291-431f-999a-a1aa225407ec",
   "metadata": {},
   "source": [
    "## Data Exploration\n",
    "\n",
    "More information on the Arkouda API can be found at: https://bears-r-us.github.io/arkouda/"
   ]
  },
  {
   "cell_type": "markdown",
   "id": "51312c61-ddfb-4620-85e6-653a99863646",
   "metadata": {},
   "source": [
    "### Descriptive statistics"
   ]
  },
  {
   "cell_type": "code",
   "execution_count": null,
   "id": "fbb71aae-5631-429d-9c49-faafc8faecf6",
   "metadata": {},
   "outputs": [],
   "source": [
    "def describe(x):\n",
    "    fmt = 'mean: {}\\nstd: {}\\nmin: {}\\nmax: {}'\n",
    "    if x.dtype == ak.float64:\n",
    "        fmt = fmt.format(*['{:.2f}' for _ in range(4)])\n",
    "    print(fmt.format(x.mean(), x.std(), x.min(), x.max()))"
   ]
  },
  {
   "cell_type": "code",
   "execution_count": null,
   "id": "d483dfb7-aec0-46e6-ac11-4ab6301123ef",
   "metadata": {},
   "outputs": [],
   "source": [
    "describe(data['fare_amount'])"
   ]
  },
  {
   "cell_type": "markdown",
   "id": "e436a425-a24f-457e-bfb2-06102dbcfccb",
   "metadata": {},
   "source": [
    "#### Histogram"
   ]
  },
  {
   "cell_type": "code",
   "execution_count": null,
   "id": "4248061a-5f44-4a8f-a2b4-fb5e5a82a52a",
   "metadata": {},
   "outputs": [],
   "source": [
    "import numpy as np\n",
    "from matplotlib import pyplot as plt\n",
    "\n",
    "def hist(x, bins, log=True):\n",
    "    assert bins > 0\n",
    "    h, bins = ak.histogram(x, bins)\n",
    "    plt.bar(bins[:-1].to_ndarray(), h.to_ndarray(), width=bins[1]-bins[0])\n",
    "    if log:\n",
    "        plt.yscale('log')"
   ]
  },
  {
   "cell_type": "code",
   "execution_count": null,
   "id": "66b27677-e741-46d8-b52e-71f42cf94b26",
   "metadata": {},
   "outputs": [],
   "source": [
    "hist(data['fare_amount'], 100)"
   ]
  },
  {
   "cell_type": "markdown",
   "id": "729dcd3e-556f-4808-bc34-c13dcdc1cafb",
   "metadata": {},
   "source": [
    "#### GroupBy: Construct a Graph"
   ]
  },
  {
   "cell_type": "code",
   "execution_count": null,
   "id": "f7d93d04-af51-4679-8d5f-ca8c3425bf18",
   "metadata": {},
   "outputs": [],
   "source": [
    "start = time.time()\n",
    "\n",
    "byloc = ak.GroupBy([data['PULocationID'], data['DOLocationID']])\n",
    "\n",
    "stop = time.time()\n",
    "print(f\"Total amount of data: {(data['PULocationID'].size*4*2)/(1024*1024):.2f} GBs\")\n",
    "print(f\"GroupBy execution time: {stop - start}\")"
   ]
  },
  {
   "cell_type": "markdown",
   "id": "1dc78f63-0bec-49ad-ac02-c8ea6d62a034",
   "metadata": {},
   "source": [
    "#### Broadcast: Find Rides with Anomalous Fares"
   ]
  },
  {
   "cell_type": "code",
   "execution_count": null,
   "id": "e977bbc7-811f-45f9-ac84-7fee822791a0",
   "metadata": {},
   "outputs": [],
   "source": [
    "(u, v), w = byloc.size()"
   ]
  },
  {
   "cell_type": "code",
   "execution_count": null,
   "id": "5c5f9378-e69a-4322-89b5-914e292e8cdc",
   "metadata": {},
   "outputs": [],
   "source": [
    "start = time.time()\n",
    "\n",
    "_, mf = byloc.mean(data['fare_amount'])\n",
    "\n",
    "stop = time.time()\n",
    "print(f\"Mean execution time: {stop - start:.2f} seconds\")"
   ]
  },
  {
   "cell_type": "code",
   "execution_count": null,
   "id": "aa470127-dfd2-46d4-8ae8-190581835b08",
   "metadata": {},
   "outputs": [],
   "source": [
    "start = time.time()\n",
    "\n",
    "sf = (byloc.sum(data['fare_amount']**2)[1] / w) - mf**2\n",
    "\n",
    "stop = time.time()\n",
    "print(f\"Standard dev execution time: {stop - start:.2f} seconds\")"
   ]
  },
  {
   "cell_type": "code",
   "execution_count": null,
   "id": "bdad751e-3f81-41ce-87da-378aeea756e2",
   "metadata": {},
   "outputs": [],
   "source": [
    "data['fare_mean'] = byloc.broadcast(mf, permute=True)\n",
    "data['fare_std'] = byloc.broadcast(sf, permute=True)"
   ]
  },
  {
   "cell_type": "code",
   "execution_count": null,
   "id": "de016c56-e245-4e89-b43e-84161d9068ef",
   "metadata": {},
   "outputs": [],
   "source": [
    "data['fare_z'] = (data['fare_amount'] - data['fare_mean']) / (data['fare_std'] + 1)"
   ]
  },
  {
   "cell_type": "code",
   "execution_count": null,
   "id": "1dbcd401-5cc3-42d0-a53c-01838ecf926b",
   "metadata": {},
   "outputs": [],
   "source": [
    "data"
   ]
  },
  {
   "cell_type": "code",
   "execution_count": null,
   "id": "c31f5c5f-a92a-4521-a805-4a9b6d28a0d1",
   "metadata": {},
   "outputs": [],
   "source": [
    "hist(data['fare_z'], 100)"
   ]
  },
  {
   "cell_type": "code",
   "execution_count": null,
   "id": "03e97c77-406b-4692-89c4-33a5a4320501",
   "metadata": {},
   "outputs": [],
   "source": [
    "worst = data['fare_z'].argmax()\n",
    "{k:v[worst] for k, v in data.items()}"
   ]
  }
 ],
 "metadata": {
  "kernelspec": {
   "display_name": "Python 3 (ipykernel)",
   "language": "python",
   "name": "python3"
  },
  "language_info": {
   "codemirror_mode": {
    "name": "ipython",
    "version": 3
   },
   "file_extension": ".py",
   "mimetype": "text/x-python",
   "name": "python",
   "nbconvert_exporter": "python",
   "pygments_lexer": "ipython3",
   "version": "3.12.1"
  }
 },
 "nbformat": 4,
 "nbformat_minor": 5
}
